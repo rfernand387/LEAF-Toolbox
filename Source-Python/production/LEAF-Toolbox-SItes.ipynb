{
 "cells": [
  {
   "cell_type": "markdown",
   "metadata": {
    "tags": []
   },
   "source": [
    "# LEAFToolbox for Sites\n",
    "Applies the LEAF-ToolBox for mapping vegetation using satellite imagery over a list of sites, each defined using time stamped vector geographical objects.\n",
    "Cite as Fernandes, R. et al., 2021, \"LEAF Toolbox\", Canada Centre for Remote Sensing, https://github.com/rfernand387/LEAF-Toolbox/wiki, DOI: 10.5281/zenodo.4321298.\n",
    "\n",
    "\n",
    "LEAF currently supports three algorithms: \n",

    "SL2PV0 is the algorithm defined by Weiss and Baret (2016) with an update in Weiss and Baret (2020).  \n",

    "SL2PV1 defined in Fernandes et al. 2023 that attempts to correct for biases in crown clumping over forests observed in SL2PV0.\n",

    "SL2PV1.1 defined in  Fernandes et al. 2024 that attempts to correct for biases in crown and shoot clumping over forests observed in SL2PV0.\n"

"\n",
    "\n",
    "Note: This is an exact copy of the Javascript version of the LEAF-ToolBox-SL2P for image by image products as implemented on December 1, 2023 17:21 EST: https://code.earthengine.google.com/8ee611fad1609740099eabbfe571189c. You will need a Google Earth Engine Account linked to a Google Account with sufficient disk space for the output.\n",
    "\n",
    "Refer to https://github.com/rfernand387/LEAF-Toolbox/tree/master/Source-Python for configuration of anaconda environment.\n",
    "\n",
    "\n",
    "Weiss, M. and Baret, F. 2016. S2ToolBox Level 2 products: LAI, FAPAR, FCOVER, 1.1. ed.\n",
    "Institut National de la Recherche Agronomique, Avignon, France. https://step.esa.\n",
    "int/docs/extra/ATBD_S2ToolBox_L2B_V1.1.pdf.\n",
    "\n",
    "Weiss, M., and Baret, F., 2020. S2ToolBox Level 2 Products: LAI, FAPAR, FCOVER, 2.0. ed.\n",
    "Institut National de la Recherche Agronomique, Avignon, France. https://step.esa.\n",
    "int/docs/extra/ATBD_S2ToolBox_L2B_V2.0.pdf.\n",
    "\n",
    "Fernandes, R., Canisius, F., Harvey, K., Hong, G., MacDougall, C., Shah, H., Sun, L., 2024. Evidence of a bias-variance trade off when correcting for bias in Sentinel 2 forest LAI retrievals using radiative transfer models. Remote Sensing of EnvironmentRemote Sens. Environ. 305. doi:10.1016/j.rse.2024.114060.\n"
   ]
  },
  {
   "cell_type": "markdown",
   "metadata": {
    "tags": []
   },
   "source": [
    "## Setup Environment"
   ]
  },
  {
   "cell_type": "code",
   "execution_count": 1,
   "metadata": {},
   "outputs": [
    {
     "data": {
      "text/html": [
       "<p>To authorize access needed by Earth Engine, open the following\n",
       "        URL in a web browser and follow the instructions:</p>\n",
       "        <p><a href=https://code.earthengine.google.com/client-auth?scopes=https%3A//www.googleapis.com/auth/earthengine%20https%3A//www.googleapis.com/auth/devstorage.full_control&request_id=F7-z_z6S5BgKNcixj-kmg2tT9xdTfJWA-SqhGcGb8HI&tc=f3Vy7EkrCB-iS7vP92xmO4qXECADRenKFATVHmv6qNg&cc=ytqXOIO53uhf7LkOBw4vxwyUCX0HZ3kVLdlEYWipu-o>https://code.earthengine.google.com/client-auth?scopes=https%3A//www.googleapis.com/auth/earthengine%20https%3A//www.googleapis.com/auth/devstorage.full_control&request_id=F7-z_z6S5BgKNcixj-kmg2tT9xdTfJWA-SqhGcGb8HI&tc=f3Vy7EkrCB-iS7vP92xmO4qXECADRenKFATVHmv6qNg&cc=ytqXOIO53uhf7LkOBw4vxwyUCX0HZ3kVLdlEYWipu-o</a></p>\n",
       "        <p>The authorization workflow will generate a code, which you should paste in the box below.</p>\n",
       "        "
      ],
      "text/plain": [
       "<IPython.core.display.HTML object>"
      ]
     },
     "metadata": {},
     "output_type": "display_data"
    },
    {
     "name": "stdin",
     "output_type": "stream",
     "text": [
      "Enter verification code:  4/1ATx3LY75qXfotfq-NZbAHbelj4yhhLuiQiWm10cprzuS0pahzuIbwBz_QrM\n"
     ]
    },
    {
     "name": "stdout",
     "output_type": "stream",
     "text": [
      "\n",
      "Successfully saved authorization token.\n"
     ]
    }
   ],
   "source": [
    "# Provide your GEE authentificaton\n",
    "import ee\n",
    "ee.Authenticate()\n",
    "ee.Initialize()"
   ]
  },
  {
   "cell_type": "code",
   "execution_count": 2,
   "metadata": {},
   "outputs": [],
   "source": [
    "# Uncomment this if you are modifying modules\n",
    "%load_ext autoreload\n",
    "%autoreload 2"
   ]
  },
  {
   "cell_type": "code",
   "execution_count": 12,
   "metadata": {},
   "outputs": [],
   "source": [
    "# import LEAF modules\n",
    "import LEAF\n",
    "\n",
    "# # import algorithm definitions\n",
    "import SL2PV0 \n",
    "import SL2PV1"
   ]
  },
  {
   "cell_type": "markdown",
   "metadata": {
    "tags": []
   },
   "source": [
    "## Process Sites with output as a Pandas Data Frame\n",
    "\n",
    "Sites correspond to readable Google Earth Engine Feature collections under which samples will be extracted.\n",
    "If the features have time stamps as properties the sampling interval can be restricted on a feature by feature basis.\n",
    "Otherwise the sampling interval must be specified the same for all features."
   ]
  },
  {
   "cell_type": "code",
   "execution_count": 6,
   "metadata": {},
   "outputs": [],
   "source": [
    "# List of GEE feature collections\n",
    "siteList=[\"projects/ee-modis250/assets/HuntClub\",\"projects/ee-modis250/assets/Nanaimo\",\"projects/ee-modis250/assets/Karachi\"]"
   ]
  },
  {
   "cell_type": "markdown",
   "metadata": {},
   "source": [
    "## Run LEAF "
   ]
  },
  {
   "cell_type": "code",
   "execution_count": 14,
   "metadata": {},
   "outputs": [],
   "source": [
    "# Function definition\n",
    "#\n",
    "# LEAF.sampleSites\n",
    "# sitesDictionary = LEAF.sampleSites( siteList, \\\n",
    "#                                     imageCollectionName=\"COPERNICUS/S2_SR_HARMONIZED\",\\\n",
    "#                                     algorithm=SL2PV0, \\\n",
    "#                                     variableName=\"LAI\",\\\n",
    "#                                     maxCloudcover=90,\\\n",
    "#                                     outputScaleSize=20,\\\n",
    "#                                     inputScaleSize=20,\\\n",
    "#                                     bufferSpatialSize = 0,\\\n",
    "#                                     bufferTemporalSize = [0,0], \n",
    "#                                     subsamplingFraction=1.\n",
    "#                                     numPixels=0,\n",
    "#                                     outputFileName=None,\n",
    "#                                     feature_range=[0,np.nan])\n",
    "#\n",
    "# Applies a LEAF toolbox algorithm to map a canopy variable for all clear sky unmasked pixels from an input image collection\n",
    "# falling within the spatial and temporal extents of features in a list of sites.  The spatial extent of features is defined by their GEE geometry.  \n",
    "# The temporal extent of features is defined by their \"system:time_start\" and \"system:time_end\" properties or user defined otherwise.\n",
    "#\n",
    "# Parameters:\n",
    "#\n",
    "# siteList: list of readable GEE feature collection assets.  Features must have a system:time_start and system:time_end property.\n",
    "# imageCollectionName: input image collection name from one of the list defined by GEE\n",
    "#                 [\"COPERNICUS/S2_SR_HARMONIZED\",\"COPERNICUS/S2_SR_HARMONIZED_10m\",\"LANDSAT/LC08/C02/T1_L2\",\"LANDSAT/LC09/C02/T1_L2\",\"NASA/HLS/HLSL30/v002\"]\n",
    "# algorithm: python module specifying LEAF algorithm to apply , currently one of list [\"SL2PV0\",\"SL2PV1\"]\n",
    "# variableName: variable to be mapped from one of the list [\"ALBEDO\",\"FAPAR\",\"FCOVER\",\"LAI\",\"CWC\",\"CCC\",\"DASF\"] defined by https://github.com/rfernand387/LEAF-Toolbox/wiki/Visualisation-Outputs              \n",
    "# maxCloudCover: maximum input image cloud cover percentage [0,100]\n",
    "# filterSize: width (m) of square filter applied to output\n",
    "# scaleSize: scale (m) applied to output imagery after applying algorithm (refer to https://developers.google.com/earth-engine/guides/scale)\n",
    "# inputScaleSize: scale (m) applied to input imagery before applying algorithm (refer to https://developers.google.com/earth-engine/guides/scale)\n",
    "# bufferSpatialSize: width (m) of spatial buffer applied to features prior to sampling\n",
    "# bufferTemporalSize: dilation (d) of start and end time of sampled features OR temporal interval [\"YYYY-MM-DD\",\"YYYY-MM-DD\"[ of start and end of time interval to sample.  \n",
    "# subsamplingFraction: fraction (0 to 1) of pixels to sample within a feature on any given image\n",
    "# numPixels: maximum number of pixels to sample within a feature, overrides subsampling fraction\n",
    "# outputPathName: name of path for output file, defaules to current working directory\n",
    "# feature_range: range of features in each site GEE feature collection to sample, use this if you have one site with many features and want only a few of them                                                                                                                        \n",
    "# Output:\n",
    "#\n",
    "# Results in a .pkl file with a pandas dictionary for each site in siteList:\n",
    "#\n",
    "# sitesDictionary: dictionary with keys corresponding to sites and structure.  The value of each key is a dictionary with two keys:\n",
    "#                     'feature' : properties of the sampled feature\n",
    "#                     'SL2PV0' or 'SL2PV1' : a pandas data frame where columns correspond to algorithm output properties and rows correspond to a retrieval within the time and spatial interval of the feature               "
   ]
  },
  {
   "cell_type": "markdown",
   "metadata": {},
   "source": [
    "### Sample Surface Reflectance from various sensors over sites"
   ]
  },
  {
   "cell_type": "code",
   "execution_count": 17,
   "metadata": {},
   "outputs": [
    {
     "name": "stdout",
     "output_type": "stream",
     "text": [
      "STARTING LEAF IMAGE for  LANDSAT/LC08/C02/T1_L2\n",
      "Output path: C:\\Users\\rfernand\\Downloads\\LEAF\\LEAF-Toolbox-master\\Source-Python\\production\\HuntClub_LANDSAT_LC08_C02_T1_L2_Surface_Reflectance_0_nan_SL2PV0_2024_06_25_11h_06mn.pkl\n",
      "Site:  projects/ee-modis250/assets/HuntClub  with  1  features.\n",
      "Data sampeling for features: from 0 to 1\n",
      "Feature n°: 0/1  -- startDate: 2021-04-01 00:00:00 -- endDate: 2022-10-01 00:00:00\n",
      "----------------------------------------------------------------------------------------------------------\n",
      "2021-04-01 00:00:00 2022-10-01 00:00:00\n",
      "\n",
      "DONE LEAF SITE\n",
      "\n",
      "Site:  projects/ee-modis250/assets/Nanaimo  with  1  features.\n",
      "Data sampeling for features: from 0 to 1\n",
      "Feature n°: 0/1  -- startDate: 2021-04-01 00:00:00 -- endDate: 2022-10-01 00:00:00\n",
      "----------------------------------------------------------------------------------------------------------\n",
      "2021-04-01 00:00:00 2022-10-01 00:00:00\n",
      "\n",
      "DONE LEAF SITE\n",
      "\n",
      "Site:  projects/ee-modis250/assets/Karachi  with  1  features.\n",
      "Data sampeling for features: from 0 to 1\n",
      "Feature n°: 0/1  -- startDate: 2021-04-01 00:00:00 -- endDate: 2022-10-01 00:00:00\n",
      "----------------------------------------------------------------------------------------------------------\n",
      "2021-04-01 00:00:00 2022-10-01 00:00:00\n",
      "\n",
      "DONE LEAF SITE\n",
      "\n",
      "STARTING LEAF IMAGE for  LANDSAT/LC09/C02/T1_L2\n",
      "Output path: C:\\Users\\rfernand\\Downloads\\LEAF\\LEAF-Toolbox-master\\Source-Python\\production\\HuntClub_LANDSAT_LC09_C02_T1_L2_Surface_Reflectance_0_1_SL2PV0_2024_06_25_11h_06mn.pkl\n",
      "Site:  projects/ee-modis250/assets/HuntClub  with  1  features.\n",
      "Data sampeling for features: from 0 to 1\n",
      "Feature n°: 0/1  -- startDate: 2021-04-01 00:00:00 -- endDate: 2022-10-01 00:00:00\n",
      "----------------------------------------------------------------------------------------------------------\n",
      "2021-04-01 00:00:00 2022-10-01 00:00:00\n",
      "\n",
      "DONE LEAF SITE\n",
      "\n",
      "Site:  projects/ee-modis250/assets/Nanaimo  with  1  features.\n",
      "Data sampeling for features: from 0 to 1\n",
      "Feature n°: 0/1  -- startDate: 2021-04-01 00:00:00 -- endDate: 2022-10-01 00:00:00\n",
      "----------------------------------------------------------------------------------------------------------\n",
      "2021-04-01 00:00:00 2022-10-01 00:00:00\n",
      "\n",
      "DONE LEAF SITE\n",
      "\n",
      "Site:  projects/ee-modis250/assets/Karachi  with  1  features.\n",
      "Data sampeling for features: from 0 to 1\n",
      "Feature n°: 0/1  -- startDate: 2021-04-01 00:00:00 -- endDate: 2022-10-01 00:00:00\n",
      "----------------------------------------------------------------------------------------------------------\n",
      "2021-04-01 00:00:00 2022-10-01 00:00:00\n",
      "\n",
      "DONE LEAF SITE\n",
      "\n",
      "STARTING LEAF IMAGE for  NASA/HLS/HLSL30/v002\n",
      "Output path: C:\\Users\\rfernand\\Downloads\\LEAF\\LEAF-Toolbox-master\\Source-Python\\production\\HuntClub_NASA_HLS_HLSL30_v002_Surface_Reflectance_0_1_SL2PV0_2024_06_25_11h_06mn.pkl\n",
      "Site:  projects/ee-modis250/assets/HuntClub  with  1  features.\n",
      "Data sampeling for features: from 0 to 1\n",
      "Feature n°: 0/1  -- startDate: 2021-04-01 00:00:00 -- endDate: 2022-10-01 00:00:00\n",
      "----------------------------------------------------------------------------------------------------------\n",
      "2021-04-01 00:00:00 2022-10-01 00:00:00\n",
      "\n",
      "DONE LEAF SITE\n",
      "\n",
      "Site:  projects/ee-modis250/assets/Nanaimo  with  1  features.\n",
      "Data sampeling for features: from 0 to 1\n",
      "Feature n°: 0/1  -- startDate: 2021-04-01 00:00:00 -- endDate: 2022-10-01 00:00:00\n",
      "----------------------------------------------------------------------------------------------------------\n",
      "2021-04-01 00:00:00 2022-10-01 00:00:00\n",
      "\n",
      "DONE LEAF SITE\n",
      "\n",
      "Site:  projects/ee-modis250/assets/Karachi  with  1  features.\n",
      "Data sampeling for features: from 0 to 1\n",
      "Feature n°: 0/1  -- startDate: 2021-04-01 00:00:00 -- endDate: 2022-10-01 00:00:00\n",
      "----------------------------------------------------------------------------------------------------------\n",
      "2021-04-01 00:00:00 2022-10-01 00:00:00\n",
      "\n",
      "DONE LEAF SITE\n",
      "\n",
      "STARTING LEAF IMAGE for  COPERNICUS/S2_SR_HARMONIZED\n",
      "Output path: C:\\Users\\rfernand\\Downloads\\LEAF\\LEAF-Toolbox-master\\Source-Python\\production\\HuntClub_COPERNICUS_S2_SR_HARMONIZED_Surface_Reflectance_0_1_SL2PV0_2024_06_25_11h_06mn.pkl\n",
      "Site:  projects/ee-modis250/assets/HuntClub  with  1  features.\n",
      "Data sampeling for features: from 0 to 1\n",
      "Feature n°: 0/1  -- startDate: 2021-04-01 00:00:00 -- endDate: 2022-10-01 00:00:00\n",
      "----------------------------------------------------------------------------------------------------------\n",
      "2021-04-01 00:00:00 2022-10-01 00:00:00\n",
      "\n",
      "DONE LEAF SITE\n",
      "\n",
      "Site:  projects/ee-modis250/assets/Nanaimo  with  1  features.\n",
      "Data sampeling for features: from 0 to 1\n",
      "Feature n°: 0/1  -- startDate: 2021-04-01 00:00:00 -- endDate: 2022-10-01 00:00:00\n",
      "----------------------------------------------------------------------------------------------------------\n",
      "2021-04-01 00:00:00 2022-10-01 00:00:00\n",
      "\n",
      "DONE LEAF SITE\n",
      "\n",
      "Site:  projects/ee-modis250/assets/Karachi  with  1  features.\n",
      "Data sampeling for features: from 0 to 1\n",
      "Feature n°: 0/1  -- startDate: 2021-04-01 00:00:00 -- endDate: 2022-10-01 00:00:00\n",
      "----------------------------------------------------------------------------------------------------------\n",
      "2021-04-01 00:00:00 2022-10-01 00:00:00\n",
      "\n",
      "DONE LEAF SITE\n",
      "\n"
     ]
    }
   ],
   "source": [
    "#Landsat 8\n",
    "sitesDictionaryL08SR = LEAF.sampleSites(siteList, \\\n",
    "                                                imageCollectionName='LANDSAT/LC08/C02/T1_L2',\\\n",
    "                                                algorithm=SL2PV0, \n",
    "                                                variableName=\"Surface_Reflectance\",\\\n",
    "                                                maxCloudcover=90,\\\n",
    "                                                outputScaleSize=30,\\\n",
    "                                                inputScaleSize=30,\\\n",
    "                                                bufferSpatialSize = 0,\\\n",
    "                                                bufferTemporalSize =[\"2021-04-01\",\"2022-10-01\"],  \\\n",
    "                                                subsamplingFraction = 0.99) \n",
    "# Landsat 9\n",
    "sitesDictionaryL09SR = LEAF.sampleSites(siteList, \\\n",
    "                                                imageCollectionName='LANDSAT/LC09/C02/T1_L2',\\\n",
    "                                                algorithm=SL2PV0, \n",
    "                                                variableName=\"Surface_Reflectance\",\\\n",
    "                                                outputScaleSize=30,\\\n",
    "                                                inputScaleSize=30,\\\n",
    "                                                bufferSpatialSize = 0,\\\n",
    "                                                bufferTemporalSize =[\"2021-04-01\",\"2022-10-01\"],  \\\n",
    "                                                subsamplingFraction = 0.99)  \n",
    "\n",
    "# #HLS\n",
    "sitesDictionaryHLSSR = LEAF.sampleSites(siteList, \\\n",
    "                                                imageCollectionName=\"NASA/HLS/HLSL30/v002\",\\\n",
    "                                                algorithm=SL2PV0, \n",
    "                                                variableName=\"Surface_Reflectance\",\\\n",
    "                                                maxCloudcover=90,\n",
    "                                                outputScaleSize=30,\\\n",
    "                                                inputScaleSize=30,\\\n",
    "                                                bufferSpatialSize = 0,\\\n",
    "                                                bufferTemporalSize =[\"2021-04-01\",\"2022-10-01\"],  \\\n",
    "                                                subsamplingFraction = 0.99)         \n",
    "\n",
    "# # S2\n",
    "sitesDictionaryS2SR = LEAF.sampleSites(siteList, \\\n",
    "                                                imageCollectionName=\"COPERNICUS/S2_SR_HARMONIZED\",\\\n",
    "                                                algorithm=SL2PV0, \n",
    "                                                variableName=\"Surface_Reflectance\",\\\n",
    "                                                maxCloudcover=90,\n",
    "                                                outputScaleSize=20,\\\n",
    "                                                inputScaleSize=20,\\\n",
    "                                                bufferSpatialSize = 0,\\\n",
    "                                                bufferTemporalSize =[\"2021-04-01\",\"2022-10-01\"],  \\\n",
    "                                                subsamplingFraction = 0.99)          "
   ]
  },
  {
   "cell_type": "code",
   "execution_count": null,
   "metadata": {},
   "outputs": [
    {
     "name": "stdout",
     "output_type": "stream",
     "text": [
      "STARTING LEAF IMAGE for  COPERNICUS/S2_SR_HARMONIZED\n",
      "Output file: C:\\Users\\rfernand\\Downloads\\LEAF\\LEAF-Toolbox-master\\Source-Python\\production\\HuntClub_COPERNICUS_S2_SR_HARMONIZED_LAI_0_1_SL2PV1_2024_06_26_17h_06mn.pkl\n",
      "Site:  projects/ee-modis250/assets/HuntClub  with  1  features.\n",
      "Data sampling for features: from 0 to 1\n",
      "Feature n°: 0/1  -- startDate: 2021-04-01 00:00:00 -- endDate: 2022-10-01 00:00:00\n",
      "----------------------------------------------------------------------------------------------------------\n",
      "2021-04-01 00:00:00 2022-10-01 00:00:00\n"
     ]
    }
   ],
   "source": [
    "# #Landsat 8\n",
    "# sitesDictionaryL08V0 = LEAF.sampleSites(siteList, \\\n",
    "#                                                 imageCollectionName='LANDSAT/LC08/C02/T1_L2',\\\n",
    "#                                                 algorithm=SL2PV0, \n",
    "#                                                 variableName=\"LAI\",\\\n",
    "#                                                 maxCloudcover=90,\\\n",
    "#                                                 outputScaleSize=30,\\\n",
    "#                                                 inputScaleSize=30,\\\n",
    "#                                                 bufferSpatialSize = 0,\\\n",
    "#                                                 bufferTemporalSize =[\"2021-04-01\",\"2022-10-01\"],  \\\n",
    "#                                                 subsamplingFraction = 0.99) \n",
    "# # Landsat 9\n",
    "# sitesDictionaryL09V0 = LEAF.sampleSites(siteList, \\\n",
    "#                                                 imageCollectionName='LANDSAT/LC09/C02/T1_L2',\\\n",
    "#                                                 algorithm=SL2PV0, \n",
    "#                                                 variableName=\"LAI\",\\\n",
    "#                                                 maxCloudcover=90,\\\n",
    "#                                                 outputScaleSize=30,\\\n",
    "#                                                 inputScaleSize=30,\\\n",
    "#                                                 bufferSpatialSize = 0,\\\n",
    "#                                                 bufferTemporalSize =[\"2021-04-01\",\"2022-10-01\"],  \\\n",
    "#                                                 subsamplingFraction = 0.99)  \n",
    "\n",
    "# #HLS\n",
    "# sitesDictionaryHLSV0 = LEAF.sampleSites(siteList, \\\n",
    "#                                                 imageCollectionName=\"NASA/HLS/HLSL30/v002\",\\\n",
    "#                                                 algorithm=SL2PV0, \n",
    "#                                                 variableName=\"LAI\",\\\n",
    "#                                                 maxCloudcover=90,\\\n",
    "#                                                 outputScaleSize=30,\\\n",
    "#                                                 inputScaleSize=30,\\\n",
    "#                                                 bufferSpatialSize = 0,\\\n",
    "#                                                 bufferTemporalSize =[\"2021-04-01\",\"2022-10-01\"],  \\\n",
    "#                                                 subsamplingFraction = 0.99)         \n",
    "\n",
    "# # S2\n",
    "# sitesDictionaryS2V0 = LEAF.sampleSites(siteList, \\\n",
    "#                                                 imageCollectionName=\"COPERNICUS/S2_SR_HARMONIZED\",\\\n",
    "#                                                 algorithm=SL2PV0, \n",
    "#                                                 variableName=\"LAI\",\\\n",
    "#                                                 maxCloudcover=90,\\\n",
    "#                                                 outputScaleSize=20,\\\n",
    "#                                                 inputScaleSize=20,\\\n",
    "#                                                 bufferSpatialSize = 0,\\\n",
    "#                                                 bufferTemporalSize =[\"2021-04-01\",\"2022-10-01\"],  \\\n",
    "#                                                 subsamplingFraction = 0.99)        \n",
    "\n",
    "# S2\n",
    "sitesDictionaryS2V1b = LEAF.sampleSites(siteList, \\\n",
    "                                                imageCollectionName=\"COPERNICUS/S2_SR_HARMONIZED\",\\\n",
    "                                                algorithm=SL2PV1, \n",
    "                                                variableName=\"LAI\",\\\n",
    "                                                maxCloudcover=90,\\\n",
    "                                                outputScaleSize=20,\\\n",
    "                                                inputScaleSize=20,\\\n",
    "                                                bufferSpatialSize = 0,\\\n",
    "                                                bufferTemporalSize =[\"2021-04-01\",\"2022-10-01\"],  \\\n",
    "                                                subsamplingFraction = 0.99)        "
   ]
  },
  {
   "cell_type": "markdown",
   "metadata": {},
   "source": [
    "## Visualize Results"
   ]
  },
  {
   "cell_type": "code",
   "execution_count": 19,
   "metadata": {},
   "outputs": [],
   "source": [
    "import pandas as pd\n",
    "import matplotlib.pyplot as plt"
   ]
  },
  {
   "cell_type": "code",
   "execution_count": 28,
   "metadata": {},
   "outputs": [
    {
     "data": {
      "image/png": "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",
      "text/plain": [
       "<Figure size 1000x1000 with 1 Axes>"
      ]
     },
     "metadata": {},
     "output_type": "display_data"
    }
   ],
   "source": [
    "# Choose a site from the sitelist \n",
    "siteNum=1\n",
    "\n",
    "# Select the first feature \n",
    "featureNum = 0\n",
    "\n",
    "#Select one sampled pixel from each feature \n",
    "pixelNum = 3\n",
    "\n",
    "#Extract time series of LAI with high quality only\n",
    "site = sitesDictionaryL08V0[siteList[siteNum]]\n",
    "df=site[featureNum]['SL2PV0']\n",
    "df['utc'] =  pd.to_datetime(df['date'],unit='ms')\n",
    "pixelL08V0=df.loc[(df['longitude']==df.loc[pixelNum].longitude) & (df['latitude']==df.loc[pixelNum].latitude) & (df['QC']==0)]\n",
    "site=sitesDictionaryL09V0[siteList[siteNum]]\n",
    "df=site[featureNum]['SL2PV0']\n",
    "df['utc'] =  pd.to_datetime(df['date'],unit='ms')\n",
    "pixelL09V0=df.loc[(df['longitude']==df.loc[pixelNum].longitude) & (df['latitude']==df.loc[pixelNum].latitude) & df['QC']==0]\n",
    "site=sitesDictionaryHLSV0[siteList[siteNum]]\n",
    "df=site[featureNum]['SL2PV0']\n",
    "df['utc'] =  pd.to_datetime(df['date'],unit='ms')\n",
    "pixelHLSV0=df.loc[(df['longitude']==df.loc[pixelNum].longitude) & (df['latitude']==df.loc[pixelNum].latitude) & df['QC']==0]\n",
    "site=sitesDictionaryS2V0[siteList[siteNum]]\n",
    "df=site[featureNum]['SL2PV0']\n",
    "df['utc'] =  pd.to_datetime(df['date'],unit='ms')\n",
    "pixelS2V0=df.loc[(df['longitude']==df.loc[pixelNum].longitude) & (df['latitude']==df.loc[pixelNum].latitude) & df['QC']==0]\n",
    "site=sitesDictionaryS2V1[siteList[siteNum]]\n",
    "df=site[featureNum]['SL2PV1']\n",
    "df['utc'] =  pd.to_datetime(df['date'],unit='ms')\n",
    "pixelS2V1=df.loc[(df['longitude']==df.loc[pixelNum].longitude) & (df['latitude']==df.loc[pixelNum].latitude) & df['QC']==0]\n",
    "\n",
    "fig,ax = plt.subplots(1,1,figsize=[10,10])\n",
    "plt.plot(pixelL08V0['utc'],pixelL08V0['estimateLAI'],'ob',markerfacecolor='none', label='L08V0')\n",
    "plt.plot(pixelL09V0['utc'],pixelL09V0['estimateLAI'],'ok',markerfacecolor='none', label='L09V0')\n",
    "plt.plot(pixelHLSV0['utc'],pixelHLSV0['estimateLAI'],'oc',markerfacecolor='none', label='HLSV0')\n",
    "plt.plot(pixelS2V0['utc'],pixelS2V0['estimateLAI'],'or',markerfacecolor='none',label='S2V0')\n",
    "plt.plot(pixelS2V1['utc'],pixelS2V1['estimateLAI'],'og',markerfacecolor='none',label='S2V1')\n",
    "\n",
    "ax.legend()\n",
    "ax.set_xlabel('date')\n",
    "ax.set_ylabel('LAI')\n",
    "plt.xticks(rotation=90);"
   ]
  },
  {
   "cell_type": "code",
   "execution_count": 759,
   "metadata": {},
   "outputs": [
    {
     "name": "stdout",
     "output_type": "stream",
     "text": [
      "               date  QC  longitude   latitude  estimateLAI  partition  \\\n",
      "0     1620922234580   0 -75.794335  45.307432    -0.192295         15   \n",
      "1     1620922234580   0 -75.793569  45.307437    -0.187067         15   \n",
      "2     1620922234580   0 -75.793569  45.307437    -0.187067         15   \n",
      "3     1620922234580   0 -75.793569  45.307437    -0.187067         15   \n",
      "4     1620922234580   0 -75.792804  45.307443    -0.169688         15   \n",
      "...             ...  ..        ...        ...          ...        ...   \n",
      "1172  1664554243058   0 -75.794342  45.307972     1.849591         15   \n",
      "1173  1664554243058   0 -75.793577  45.307977     1.895486         15   \n",
      "1174  1664554243058   0 -75.793577  45.307977     1.895486         15   \n",
      "1175  1664554243058   0 -75.793577  45.307977     1.895486         15   \n",
      "1176  1664554243058   0 -75.792812  45.307983     1.849684         15   \n",
      "\n",
      "      networkID  errorLAI                     utc  \n",
      "0             0  0.156761 2021-05-13 16:10:34.580  \n",
      "1             0  0.158502 2021-05-13 16:10:34.580  \n",
      "2             0  0.158502 2021-05-13 16:10:34.580  \n",
      "3             0  0.158502 2021-05-13 16:10:34.580  \n",
      "4             0  0.145810 2021-05-13 16:10:34.580  \n",
      "...         ...       ...                     ...  \n",
      "1172          0  0.773306 2022-09-30 16:10:43.058  \n",
      "1173          0  0.781940 2022-09-30 16:10:43.058  \n",
      "1174          0  0.781940 2022-09-30 16:10:43.058  \n",
      "1175          0  0.781940 2022-09-30 16:10:43.058  \n",
      "1176          0  0.775178 2022-09-30 16:10:43.058  \n",
      "\n",
      "[1141 rows x 9 columns]\n"
     ]
    }
   ],
   "source": [
    "print(pixelS2V0)"
   ]
  }
 ],
 "metadata": {
  "kernelspec": {
   "display_name": "Python 3 (ipykernel)",
   "language": "python",
   "name": "python3"
  },
  "language_info": {
   "codemirror_mode": {
    "name": "ipython",
    "version": 3
   },
   "file_extension": ".py",
   "mimetype": "text/x-python",
   "name": "python",
   "nbconvert_exporter": "python",
   "pygments_lexer": "ipython3",
   "version": "3.10.6"
  }
 },
 "nbformat": 4,
 "nbformat_minor": 4
}
